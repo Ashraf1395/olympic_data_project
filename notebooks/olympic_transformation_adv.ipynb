{
  "nbformat": 4,
  "nbformat_minor": 0,
  "metadata": {
    "colab": {
      "provenance": []
    },
    "kernelspec": {
      "name": "python3",
      "display_name": "Python 3"
    },
    "language_info": {
      "name": "python"
    }
  },
  "cells": [
    {
      "cell_type": "code",
      "execution_count": null,
      "metadata": {
        "id": "3ktmKp4uFo3c"
      },
      "outputs": [],
      "source": [
        "!pip install pyspark,XlsxWriter"
      ]
    },
    {
      "cell_type": "code",
      "source": [
        "# Import necessary Spark libraries\n",
        "from pyspark.sql import SparkSession\n",
        "from pyspark.sql.functions import count, when, col, collect_list, max\n",
        "from pyspark.sql.window import Window\n",
        "import pyspark.sql.functions as F\n",
        "\n",
        "# Create a Spark session\n",
        "spark = SparkSession.builder.appName('project').getOrCreate()\n",
        "\n",
        "# Load the dataset\n",
        "df = spark.read.option('inferschema', 'true').option('header', 'true').csv('/content/2020_olympics_data.csv')\n",
        "\n",
        "# Function to calculate medal counts for a given group column\n",
        "def result(df, group_col, partition_col=None, rank_limit=None):\n",
        "    # Define the aggregation columns for medal counts\n",
        "    agg_columns = [\n",
        "        count(when(df['Medal'] == 'Gold', True)).alias('Gold'),\n",
        "        count(when(df['Medal'] == 'Silver', True)).alias('Silver'),\n",
        "        count(when(df['Medal'] == 'Bronze', True)).alias('Bronze'),\n",
        "        count(when(df['Medal'] != 'None', True)).alias('Total'),\n",
        "    ]\n",
        "\n",
        "    # Create a window specification for ranking\n",
        "    window_spec = Window.partitionBy(partition_col).orderBy(\n",
        "        col(\"Gold\").desc(), col(\"Silver\").desc(), col(\"Bronze\").desc(), col(\"Total\").desc()\n",
        "    ) if partition_col else Window.orderBy(\n",
        "        col(\"Gold\").desc(), col(\"Silver\").desc(), col(\"Bronze\").desc(), col(\"Total\").desc()\n",
        "    )\n",
        "\n",
        "    # If both group_col and partition_col are provided, aggregate by both columns\n",
        "    if group_col and partition_col:\n",
        "        result_df = df.groupBy(partition_col, group_col).agg(*agg_columns).filter(col('Total') > 0)\n",
        "    # If only group_col is provided, aggregate by that column\n",
        "    elif group_col:\n",
        "        result_df = df.groupBy(group_col).agg(*agg_columns).filter(col('Total') > 0)\n",
        "\n",
        "    # If the group column is \"Name,\" also collect the list of events\n",
        "    if group_col == \"Name\":\n",
        "        events_df = df.filter(df['Medal'] != 'None').groupBy(group_col).agg(\n",
        "            collect_list(\"Event\").alias('Event')\n",
        "        )\n",
        "        result_df = result_df.join(events_df, [group_col], \"left\")\n",
        "\n",
        "    # Calculate the rank for each group\n",
        "    result_df = result_df.withColumn(\"Rank\", F.row_number().over(window_spec))\n",
        "\n",
        "    # If rank_limit is provided, filter rows by rank\n",
        "    if rank_limit:\n",
        "        result_df = result_df.filter(col('Rank') <= rank_limit)\n",
        "\n",
        "    # Show the result\n",
        "    result_df.show()\n",
        "    return result_df\n",
        "\n",
        "# Perform different analyses using the defined functions\n",
        "# 1. Medal Count for countries\n",
        "result_df1=result(df, 'Country')\n",
        "\n",
        "# 2. Medal Count of Top Countries in Each Sport\n",
        "result_df2=result(df, 'Country', 'Sport')\n",
        "\n",
        "# 3. Medal Count of Top Sport Performances in Each Country\n",
        "result_df3=result(df, 'Sport', 'Country')\n",
        "\n",
        "# 4. Top  Athletes\n",
        "result_df4=result(df, 'Name')\n",
        "\n",
        "# 5. Details of Top Athletes in Each Country along with countries with no medals\n",
        "result_df5=result(df, 'Name', 'Country')\n"
      ],
      "metadata": {
        "id": "CAfN8hJ4FpgP"
      },
      "execution_count": null,
      "outputs": []
    },
    {
      "cell_type": "code",
      "source": [
        "import pandas as pd\n",
        "import xlsxwriter\n",
        "\n",
        "# Define a function to export multiple DataFrames to an Excel file with different worksheets\n",
        "def export_to_excel(dataframes, filename):\n",
        "    with pd.ExcelWriter(filename, engine='xlsxwriter') as writer:\n",
        "        for sheet_name, df in dataframes.items():\n",
        "            df.to_excel(writer, sheet_name=sheet_name, index=False)\n",
        "\n",
        "pandas_df1 = result_df1.toPandas()\n",
        "print(pandas_df1)\n",
        "pandas_df2 = result_df2.toPandas()\n",
        "pandas_df3 = result_df3.toPandas()\n",
        "pandas_df4 = result_df4.toPandas()\n",
        "pandas_df5 = result_df5.toPandas()\n",
        "\n",
        "# Example usage:\n",
        "# Create a dictionary with sheet names as keys and DataFrames as values\n",
        "dataframes = {\n",
        "    'MedalCountsByCountry': pandas_df1,\n",
        "    'TopCountriesInSport': pandas_df2,  # Modified sheet name\n",
        "    'TopSportsInEachCountry': pandas_df3,  # Modified sheet name\n",
        "    'Top10Athletes': pandas_df4,\n",
        "    'TopAthletesInEachCountry': pandas_df5  # Modified sheet name\n",
        "}\n",
        "\n",
        "# Specify the Excel file name\n",
        "excel_filename = '/content/olympic_report.xlsx'\n",
        "\n",
        "# Export the DataFrames to the Excel file with different worksheets\n",
        "export_to_excel(dataframes, excel_filename)\n"
      ],
      "metadata": {
        "id": "SwcpjJwVF59x"
      },
      "execution_count": null,
      "outputs": []
    }
  ]
}